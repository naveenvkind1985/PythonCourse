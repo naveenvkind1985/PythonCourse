{
 "cells": [
  {
   "cell_type": "code",
   "execution_count": null,
   "metadata": {},
   "outputs": [],
   "source": [
    "# Operator Precedence\n",
    "# ()\n",
    "# **\n",
    "# ~,- Bitwise complement and unary Minus\n",
    "# *,/,%,//\n",
    "# +,-\n",
    "# <<,>>\n",
    "# &\n",
    "# ^\n",
    "# |\n",
    "# >,>=,<,<=,==,!=\n",
    "# =,+=,-=...\n",
    "# is, is not\n",
    "# in, not in\n",
    "# not\n",
    "# and\n",
    "# or\n",
    "\n",
    "# Conditional statements, loop,"
   ]
  },
  {
   "cell_type": "code",
   "execution_count": null,
   "metadata": {},
   "outputs": [],
   "source": [
    "# if, elif,else\n",
    "\n",
    "if expression(True/False):\n",
    "    logic"
   ]
  },
  {
   "cell_type": "code",
   "execution_count": null,
   "metadata": {},
   "outputs": [],
   "source": [
    "stat1\n",
    "stat2\n",
    "stat3\n",
    "stat4\n",
    "stat5\n",
    "stat6\n",
    "stat7\n",
    "stat8\n",
    "stat9\n",
    "\n"
   ]
  },
  {
   "cell_type": "code",
   "execution_count": 8,
   "metadata": {},
   "outputs": [
    {
     "name": "stdout",
     "output_type": "stream",
     "text": [
      "Enter 1st number: 100\n",
      "Enter 2nd number: 200\n",
      "Enter 3rd number: 300\n",
      "num1 is greater than num2\n",
      "-100\n",
      "100\n",
      "200\n"
     ]
    }
   ],
   "source": [
    "# if statement and nested if statement\n",
    "# stat1\n",
    "# stat2\n",
    "# if expression:\n",
    "#     stat3\n",
    "#     stat4\n",
    "#     stat5\n",
    "#     if expression:\n",
    "#         stat6\n",
    "#         stat7\n",
    "# stat8\n",
    "# stat9\n",
    "\n",
    "num1 = int(input('Enter 1st number: '))\n",
    "num2 = int(input('Enter 2nd number: '))\n",
    "num3 = int(input('Enter 3rd number: '))\n",
    "if 100:\n",
    "    print('num1 is greater than num2')\n",
    "    print(num1-num2)\n",
    "    print(num1)\n",
    "    print(num2)\n",
    "    if num1>num3:\n",
    "        print('num1 is greater than num3')\n",
    "        print(num1-num3)\n",
    "        print(num3)\n",
    "    else:\n",
    "        print('num1 is not greater than num3')"
   ]
  },
  {
   "cell_type": "code",
   "execution_count": 14,
   "metadata": {},
   "outputs": [
    {
     "ename": "SyntaxError",
     "evalue": "invalid syntax (<ipython-input-14-48267b10f6ca>, line 19)",
     "output_type": "error",
     "traceback": [
      "\u001b[0;36m  File \u001b[0;32m\"<ipython-input-14-48267b10f6ca>\"\u001b[0;36m, line \u001b[0;32m19\u001b[0m\n\u001b[0;31m    else:\u001b[0m\n\u001b[0m       ^\u001b[0m\n\u001b[0;31mSyntaxError\u001b[0m\u001b[0;31m:\u001b[0m invalid syntax\n"
     ]
    }
   ],
   "source": [
    "# If - else and else is completely optional\n",
    "# stat1\n",
    "# stat2\n",
    "# if expression:\n",
    "#     stat3\n",
    "#     stat4\n",
    "#     stat5\n",
    "# else:    \n",
    "#     stat6\n",
    "#     stat7\n",
    "#     stat8\n",
    "# stat9\n",
    "\n",
    "# num1 = int(input('Enter 1st number: '))\n",
    "# num2 = int(input('Enter 2nd number: '))\n",
    "# if num1>num2:\n",
    "#     print('num1 is greater than num2')\n",
    "\n",
    "# else:\n",
    "#     print('num1 is not greater than num2')\n",
    "#     print(num2-num1)\n",
    "#     print(num1)\n",
    "#     print(num2)\n",
    "# print(num1-num2)\n",
    "# print(num1)\n",
    "# print(num2)\n",
    "# else:\n",
    "#     print('Hi')\n"
   ]
  },
  {
   "cell_type": "code",
   "execution_count": 16,
   "metadata": {},
   "outputs": [],
   "source": [
    "# Multi condition if statment - if elif\n",
    "# stat1\n",
    "# stat2\n",
    "# if expression:\n",
    "#     stat3\n",
    "#     stat4\n",
    "#     stat5\n",
    "# elif expression:\n",
    "#     stat11\n",
    "#     stat12\n",
    "#     stat13\n",
    "# elif expression:\n",
    "#     stat21\n",
    "#     stat22\n",
    "#     stat23   \n",
    "# else:    \n",
    "#     stat6\n",
    "#     stat7\n",
    "#     stat8\n",
    "# stat9\n",
    "\n",
    "\n",
    "# num1 = int(input('Enter 1st number: '))\n",
    "# num2 = int(input('Enter 2nd number: '))\n",
    "# num3 = int(input('Enter 3rd number: '))\n",
    "# if num1>num2 and num1>num3:\n",
    "#     print('num1 is greater than num2 and num3')\n",
    "#     print(num1)\n",
    "#     print(num2)\n",
    "#     print(num3)\n",
    "# elif num2>num3:\n",
    "#     print('num2 is greater than num1 and num3')\n",
    "# else:\n",
    "#     print('num3 is greater than num1 and num2')\n",
    "\n",
    "\n",
    "\n",
    "\n"
   ]
  },
  {
   "cell_type": "code",
   "execution_count": 23,
   "metadata": {},
   "outputs": [
    {
     "name": "stdout",
     "output_type": "stream",
     "text": [
      "100\n",
      "Enter some number20\n",
      "100 <class 'int'>\n",
      "5.0\n"
     ]
    }
   ],
   "source": [
    "a = int(input())\n",
    "b = float(input('Enter some number'))\n",
    "print(a, type(a))\n",
    "print(a/b)\n",
    "\n",
    "# Type casting using built in function is possible only for fundamental data type\n",
    "# For derived data type - eval()  to do the type casting"
   ]
  },
  {
   "cell_type": "code",
   "execution_count": 42,
   "metadata": {},
   "outputs": [
    {
     "name": "stdout",
     "output_type": "stream",
     "text": [
      "Enter an year: 2004\n",
      "2004 is a Leap Year\n"
     ]
    }
   ],
   "source": [
    "# Write a code to find whether an year is leap year\n",
    "# leap year:- 1200,1600,2000,2004,2020\n",
    "# Non Leap year - 1967, 1700,1900\n",
    "\n",
    "# If yesr is divisible by 4 - leap year\n",
    "# If year is divisible by 4 and 100 - check whether divisible by 400 - If True - Leap year and if False - Non leap year\n",
    "# if not divisible by 4 then non leap year\n",
    "\n",
    "year = int(input('Enter an year: '))\n",
    "# if year % 4 == 0:\n",
    "#     if year % 100 == 0:\n",
    "#         if year % 400 == 0:\n",
    "#             print('Year is leap year')\n",
    "#         else:\n",
    "#             print('Year is not leap year')\n",
    "#     else:\n",
    "#         print('Year is leap year')\n",
    "# else:\n",
    "#     print('Year is not leap year')\n",
    "\n",
    "\n",
    "if (year%400 == 0 or ( year%4 == 0  and  year%100 != 0)):\n",
    "#     print(\"%d is a Leap Year\" %year)\n",
    "# else:\n",
    "#     print(\"%d is Not the Leap Year\" %year)\n",
    "\n",
    "    print(\"{} is a Leap Year\".format(year))\n",
    "else:\n",
    "    print(\"{} is Not the Leap Year\".format(year))\n"
   ]
  },
  {
   "cell_type": "code",
   "execution_count": 41,
   "metadata": {},
   "outputs": [
    {
     "name": "stdout",
     "output_type": "stream",
     "text": [
      "10\t20\t30\t40\t"
     ]
    }
   ],
   "source": [
    "# Output formatting\n",
    "# print(10,20,30,40)\n",
    "# print(10,20,30,40, sep = ' ')\n",
    "\n",
    "# print(10, end = '\\t')\n",
    "# print(20, end = '\\t')\n",
    "# print(30, end = '\\t')\n",
    "# print(40, end = '\\t')\n"
   ]
  },
  {
   "cell_type": "code",
   "execution_count": 45,
   "metadata": {},
   "outputs": [
    {
     "name": "stdout",
     "output_type": "stream",
     "text": [
      "Enter 1st number: 100\n",
      "Enter 2nd number: 200\n",
      "Enter 3rd number: 30\n",
      "num2 -> 200 is greater than num1 -> 100 and num3 -> 30\n"
     ]
    }
   ],
   "source": [
    "num1 = int(input('Enter 1st number: '))\n",
    "num2 = int(input('Enter 2nd number: '))\n",
    "num3 = int(input('Enter 3rd number: '))\n",
    "if num1>num2 and num1>num3:\n",
    "    print('num1 -> {} is greater than num2 -> {} and num3 -> {}'.format(num1, num2,num3))\n",
    "    print(num1)\n",
    "    print(num2)\n",
    "    print(num3)\n",
    "elif num2>num3:\n",
    "    print('num2 -> {} is greater than num1 -> {} and num3 -> {}'.format(num2, num1,num3))\n",
    "else:\n",
    "    print('num3 -> {} is greater than num2 -> {} and num1 -> {}'.format(num3, num2,num1))"
   ]
  },
  {
   "cell_type": "code",
   "execution_count": 46,
   "metadata": {},
   "outputs": [
    {
     "name": "stdout",
     "output_type": "stream",
     "text": [
      "Enter 1st number: 100\n",
      "Enter 2nd number: 20\n",
      "Enter 3rd number: 300\n",
      "num3 -> 300 is greater than num2 -> 20 and num1 -> 100\n"
     ]
    }
   ],
   "source": [
    "num1 = int(input('Enter 1st number: '))\n",
    "num2 = int(input('Enter 2nd number: '))\n",
    "num3 = int(input('Enter 3rd number: '))\n",
    "if num1>num2 and num1>num3:\n",
    "    print(f'num1 -> {num1} is greater than num2 -> {num2} and num3 -> {num}')\n",
    "    print(num1)\n",
    "    print(num2)\n",
    "    print(num3)\n",
    "elif num2>num3:\n",
    "    print(f'num2 -> {num2} is greater than num1 -> {num1} and num3 -> {num3}')\n",
    "else:\n",
    "    print(f'num3 -> {num3} is greater than num2 -> {num2} and num1 -> {num1}')"
   ]
  },
  {
   "cell_type": "code",
   "execution_count": null,
   "metadata": {},
   "outputs": [],
   "source": [
    "# WAP to check whether a number is divisible by 5 and 11\n",
    "num=int(input('enter the number'))\n",
    "if ((num % 5 ==0) and (num % 11 ==0)):\n",
    "    print(f'{num} is divisble by 5 and 11')\n",
    "else:\n",
    "    print(f'{num} not divisble by 5 and 11')"
   ]
  },
  {
   "cell_type": "code",
   "execution_count": null,
   "metadata": {},
   "outputs": [],
   "source": [
    "# Write a program to check whether a character is alphabet or not.\n",
    "val=input('enter a value: -')\n",
    "if((val>='a' and val<= 'z') or (val>='A' and val<='Z')):\n",
    "    print('Entered character is Alaphabet')\n",
    "else:\n",
    "    print('Entered character is not Alaphabet')\n"
   ]
  },
  {
   "cell_type": "code",
   "execution_count": 1,
   "metadata": {},
   "outputs": [
    {
     "name": "stdout",
     "output_type": "stream",
     "text": [
      "Enter a number: 6\n",
      "6 is Even\n"
     ]
    }
   ],
   "source": [
    "# Write a program to check whether a number is even or odd.\n",
    "num = int(input(\"Enter a number: \"))\n",
    "if (num % 2) == 0:\n",
    "   print(f\"{0} is Even\")\n",
    "else:\n",
    "   print(f\"{0} is Odd\")"
   ]
  },
  {
   "cell_type": "code",
   "execution_count": 6,
   "metadata": {},
   "outputs": [
    {
     "name": "stdout",
     "output_type": "stream",
     "text": [
      "enter a value: -k\n",
      "k :- is consonant\n"
     ]
    }
   ],
   "source": [
    "# Write a program to input any alphabet and check whether it is vowel or consonant.\n",
    "val=input('enter a value: -')\n",
    "if((val=='a' or val=='A' or val=='E' or val=='e' or val=='I' or val=='i' or val=='o' or val=='O' or val=='U' or val=='u')):\n",
    "    print(f'{val} :- is Vowel')\n",
    "else:\n",
    "    print(f'{val} :- is consonant')"
   ]
  },
  {
   "cell_type": "code",
   "execution_count": 9,
   "metadata": {},
   "outputs": [
    {
     "name": "stdout",
     "output_type": "stream",
     "text": [
      "enter a value: -@\n",
      "Entered character is Speical Charcter\n"
     ]
    }
   ],
   "source": [
    "# Write a program to input any character and check whether it is alphabet, digit or special character.\n",
    "val=input('enter a value: -')\n",
    "if((val>='a' and val<= 'z') or (val>='A' and val<='Z')):\n",
    "    print('Entered character is Alaphabet')\n",
    "elif(val>='0' and val<= '9'):\n",
    "    print('Entered character is Numeric')\n",
    "else:\n",
    "    print('Entered character is Speical Charcter')"
   ]
  },
  {
   "cell_type": "code",
   "execution_count": null,
   "metadata": {},
   "outputs": [],
   "source": []
  },
  {
   "cell_type": "code",
   "execution_count": 12,
   "metadata": {},
   "outputs": [
    {
     "name": "stdout",
     "output_type": "stream",
     "text": [
      "enter a value: -5\n",
      "5 :- is not an alphabet\n"
     ]
    }
   ],
   "source": [
    "# Write a  program to check whether a character is uppercase or lowercase alphabet.\n",
    "val=input('enter a value: -')\n",
    "if (val>='a' and val<= 'z'):\n",
    "    print(f'{val} :-Alaphabet is in lower Case')\n",
    "elif(val>='A' and val<='Z'):\n",
    "    print(f'{val} :-Alaphabet is in Upper Case')\n",
    "else:\n",
    "    print(f'{val} :- is not an alphabet')"
   ]
  },
  {
   "cell_type": "code",
   "execution_count": 14,
   "metadata": {},
   "outputs": [
    {
     "name": "stdout",
     "output_type": "stream",
     "text": [
      "Enter weekday day number (1-7) : 4\n",
      "\n",
      "Thursday\n"
     ]
    }
   ],
   "source": [
    "# Write a program to input week number and print week day.\n",
    "weekday = int(input(\"Enter weekday day number (1-7) : \"))\n",
    "\n",
    "if weekday == 1 :\n",
    "    print(\"\\nMonday\");\n",
    "\n",
    "elif weekday == 2 :\n",
    "    print(\"\\nTuesday\")\n",
    "\n",
    "elif(weekday == 3) :\n",
    "    print(\"\\nWednesday\")\n",
    "\n",
    "elif(weekday == 4) :\n",
    "    print(\"\\nThursday\")\n",
    "\n",
    "elif(weekday == 5) :\n",
    "    print(\"\\nFriday\")\n",
    "\n",
    "elif(weekday == 6) :\n",
    "    print(\"\\nSaturday\")\n",
    "\n",
    "elif (weekday == 7) :\n",
    "    print(\"\\nSunday\")\n",
    "\n",
    "else :\n",
    "    print(\"\\nPlease enter weekday number between 1-7.\")"
   ]
  },
  {
   "cell_type": "code",
   "execution_count": 23,
   "metadata": {},
   "outputs": [
    {
     "name": "stdout",
     "output_type": "stream",
     "text": [
      "Enter year :- 2020\n",
      "Enter month :- 8\n",
      "Number of days in the Month is 31\n"
     ]
    }
   ],
   "source": [
    "# Write a program to input month number and print number of days in that month.\n",
    "year = int(input('Enter year :- '))\n",
    "month = int(input('Enter month :- '))\n",
    "def leap_year(year):\n",
    "    if ((year % 4 ==0)or(year % 400 ==0)and (year % 100==0)):\n",
    "         print(\"{0} is a leap year\".format(year))\n",
    "    else:\n",
    "         print(\"{0} is not a leap year\".format(year))\n",
    "\n",
    "if month == 1 or month == 3 or month == 5 or month == 7 or month == 8 or month == 10 or month == 12:\n",
    "    print(\"Number of days in the Month is 31\")\n",
    "elif month == 2:\n",
    "    if leap_year(year):\n",
    "        print(\"Number of days in the Month is 29 as its a leap year\")\n",
    "    else:\n",
    "        print(\"Number of days in the Month is 28 as its not a leap year\")\n",
    "else:\n",
    "    print(\"Number of days in the Month is 30\")"
   ]
  },
  {
   "cell_type": "code",
   "execution_count": 1,
   "metadata": {},
   "outputs": [
    {
     "name": "stdout",
     "output_type": "stream",
     "text": [
      "enter the Triangle 1:-45\n",
      "enter the Triangle 2:-45\n",
      "enter the Triangle 3:-90\n",
      "Triangle is not valid.\n",
      "\n",
      "This is an Invalid Triangle\n",
      "\n",
      "This is a Valid Triangle\n"
     ]
    }
   ],
   "source": [
    "# Write a program to input angles of a triangle and check whether triangle is valid or not.\n",
    "a=input('enter the Triangle 1:-')\n",
    "b=input('enter the Triangle 2:-')\n",
    "c=input('enter the Triangle 3:-')\n",
    "\n",
    "if ((a + b > c) == 180) :\n",
    "    print(\"\\nThis is a Valid Triangle\")\n",
    "else :\n",
    "    print(\"\\nThis is an Invalid Triangle\")\n",
    "    \n",
    "total = a + b + c\n",
    "\n",
    "if (total == 180 and a != 0 and b != 0 and c != 0):\n",
    "    print(\"\\nThis is a Valid Triangle\")\n",
    "else:\n",
    "    print(\"\\nThis is an Invalid Triangle\")\n",
    "\n",
    "if (a + b <= c) or (a + c <= b) or (b + c <= a) : \n",
    "    print(\"\\nThis is a Valid Triangle\")\n",
    "else:\n",
    "    print(\"\\nThis is an Invalid Triangle\")"
   ]
  },
  {
   "cell_type": "code",
   "execution_count": 5,
   "metadata": {},
   "outputs": [
    {
     "name": "stdout",
     "output_type": "stream",
     "text": [
      "Please Enter a Value of a Quadratic Equation : 11\n",
      "Please Enter b Value of a Quadratic Equation : 22\n",
      "Please Enter c Value of a Quadratic Equation : 11\n",
      "The function has one double root:  (-121+0j)\n"
     ]
    }
   ],
   "source": [
    "# Write a program to find all roots of a quadratic equation.\n",
    "import cmath\n",
    "a = int(input(\"Please Enter a Value of a Quadratic Equation : \"))\n",
    "b = int(input(\"Please Enter b Value of a Quadratic Equation : \"))\n",
    "c = int(input(\"Please Enter c Value of a Quadratic Equation : \"))\n",
    "\n",
    "d = (b**2) - (4*a*c) \n",
    "if d==0:\n",
    "    x_1=(-b+cmath.sqrt(d))/2*a\n",
    "    x_2=(-b-cmath.sqrt(d))/2*a\n",
    "else:\n",
    "    x_1= complex((-b/(2*a)),cmath.sqrt(-d)/(2*a))\n",
    "    x_2= complex((-b/(2*a)),cmath.sqrt(-d)/(2*a))\n",
    "\n",
    "if d > 0:\n",
    "    print(\"The function has two distinct real roots: {} and {}\".format(x_1,x_2))\n",
    "elif d == 0:\n",
    "    print(\"The function has one double root: \", x_1)\n",
    "else:\n",
    "    print(\"The function has two complex (conjugate) roots: {}  and {}\".format(x_1,x_2)) "
   ]
  },
  {
   "cell_type": "code",
   "execution_count": null,
   "metadata": {},
   "outputs": [],
   "source": []
  }
 ],
 "metadata": {
  "kernelspec": {
   "display_name": "Python 3",
   "language": "python",
   "name": "python3"
  },
  "language_info": {
   "codemirror_mode": {
    "name": "ipython",
    "version": 3
   },
   "file_extension": ".py",
   "mimetype": "text/x-python",
   "name": "python",
   "nbconvert_exporter": "python",
   "pygments_lexer": "ipython3",
   "version": "3.7.6"
  }
 },
 "nbformat": 4,
 "nbformat_minor": 2
}
